{
 "cells": [
  {
   "cell_type": "code",
   "execution_count": 1,
   "id": "970fbb55-a2ee-4924-a261-f6104fad5541",
   "metadata": {
    "tags": []
   },
   "outputs": [],
   "source": [
    "import csv\n",
    "import requests\n",
    "from bs4 import BeautifulSoup\n",
    "import time\n",
    "import datetime"
   ]
  },
  {
   "cell_type": "code",
   "execution_count": 2,
   "id": "966fd10a-33a2-4b37-b35f-81418f9531a4",
   "metadata": {
    "tags": []
   },
   "outputs": [],
   "source": [
    "url_links = ['https://www.thehindu.com/business/',\n",
    "             'https://www.thehindu.com/business/agri-business/',\n",
    "             'https://www.thehindu.com/business/Economy/',\n",
    "             'https://www.thehindu.com/business/Industry/',\n",
    "             'https://www.thehindu.com/business/markets/',\n",
    "             'https://www.thehindu.com/business/budget/',\n",
    "             'https://www.thehindu.com/sci-tech/',\n",
    "             'https://www.thehindu.com/sci-tech/science/',\n",
    "             'https://www.thehindu.com/sci-tech/technology/',\n",
    "             'https://www.thehindu.com/sci-tech/health/',\n",
    "             'https://www.thehindu.com/sci-tech/agriculture/',\n",
    "             'https://www.thehindu.com/sci-tech/energy-and-environment/',\n",
    "             'https://www.thehindu.com/sci-tech/technology/gadgets/',\n",
    "             'https://www.thehindu.com/sci-tech/technology/internet/',\n",
    "             'https://www.thehindu.com/news/',\n",
    "             'https://www.thehindu.com/news/national/',\n",
    "             'https://www.thehindu.com/news/international/',\n",
    "             'https://www.thehindu.com/news/states/',\n",
    "             'https://www.thehindu.com/news/cities/',\n",
    "             'https://www.thehindu.com/society/',\n",
    "             'https://www.thehindu.com/life-and-style/',\n",
    "             'https://www.thehindu.com/life-and-style/fashion/',\n",
    "             'https://www.thehindu.com/life-and-style/fitness/',\n",
    "             'https://www.thehindu.com/life-and-style/food/',\n",
    "             'https://www.thehindu.com/life-and-style/homes-and-gardens/',\n",
    "             'https://www.thehindu.com/life-and-style/luxury/',\n",
    "             'https://www.thehindu.com/life-and-style/motoring/',\n",
    "             'https://www.thehindu.com/life-and-style/travel/',\n",
    "             'https://www.thehindu.com/data/',\n",
    "             'https://www.thehindu.com/society/faith/',\n",
    "             'https://www.thehindu.com/society/history-and-culture/',\n",
    "             'https://www.thehindu.com/opinion/editorial/',\n",
    "             'https://www.thehindu.com/opinion/columns/',\n",
    "             'https://www.thehindu.com/opinion/interview/',\n",
    "             'https://www.thehindu.com/books/',\n",
    "             'https://www.thehindu.com/books/books-reviews/',\n",
    "             'https://www.thehindu.com/books/books-authors/',\n",
    "             'https://www.thehindu.com/sport/',\n",
    "             'https://www.thehindu.com/sport/cricket/',\n",
    "             'https://www.thehindu.com/sport/football/',\n",
    "             'https://www.thehindu.com/sport/hockey/',\n",
    "             'https://www.thehindu.com/sport/tennis/',\n",
    "             'https://www.thehindu.com/sport/athletics/',\n",
    "             'https://www.thehindu.com/sport/motorsport/',\n",
    "             'https://www.thehindu.com/sport/races/',\n",
    "             'https://www.thehindu.com/sport/other-sports/'\n",
    "             'https://www.thehindu.com/topic/russia-ukraine-crisis/'\n",
    "            ]\n",
    "             \n",
    "             \n",
    "             "
   ]
  },
  {
   "cell_type": "code",
   "execution_count": 11,
   "id": "61866c2e",
   "metadata": {},
   "outputs": [],
   "source": [
    "file_name = 'articles_'+ datetime.datetime.now().strftime('%Y-%m-%d_%H-%M-%S') + '.csv'\n",
    "with open(file_name, 'w', newline='', encoding='utf-8') as csvfile:\n",
    "    writer = csv.writer(csvfile)\n",
    "    writer.writerow(['Title', 'Article'])\n",
    "\n",
    "    for url in url_links:\n",
    "        response = requests.get(url)\n",
    "        soup = BeautifulSoup(response.content, 'html.parser')\n",
    "        article_links = []\n",
    "\n",
    "        for link in soup.find_all('a', href=True):\n",
    "            if 'article' in link['href']:\n",
    "                article_links.append(link['href'])\n",
    "\n",
    "        processed_links = 0\n",
    "        total_links = len(article_links)\n",
    "\n",
    "        for link in article_links:\n",
    "            article_response = requests.get(link)\n",
    "            article_soup = BeautifulSoup(article_response.content, 'html.parser')\n",
    "\n",
    "            # Get article title\n",
    "            article_title = article_soup.find('h1', class_='title')\n",
    "            if article_title:\n",
    "                article_title = article_title.text.strip()\n",
    "            else:\n",
    "                article_title = 'N/A'\n",
    "\n",
    "            # Get article body\n",
    "            article_body = article_soup.find('div', class_='articlebodycontent')\n",
    "            if article_body:\n",
    "                article_text = ''\n",
    "                for p in article_body.find_all('p'):\n",
    "                    article_text += p.text + '\\n'\n",
    "            else:\n",
    "                article_text = 'N/A'\n",
    "\n",
    "            # Write to CSV file\n",
    "            writer.writerow([article_title, article_text])\n",
    "\n",
    "            processed_links += 1\n",
    "            if processed_links >= total_links:\n",
    "                break\n",
    "\n"
   ]
  },
  {
   "cell_type": "code",
   "execution_count": 13,
   "id": "0004e41f-ee4c-484c-b2ff-136b9735f5be",
   "metadata": {
    "tags": []
   },
   "outputs": [
    {
     "name": "stdout",
     "output_type": "stream",
     "text": [
      "Shape of the dataset (6841, 2)\n",
      "Shape of the dataset after dropping duplicates (2492, 2)\n"
     ]
    },
    {
     "data": {
      "text/html": [
       "<div>\n",
       "<style scoped>\n",
       "    .dataframe tbody tr th:only-of-type {\n",
       "        vertical-align: middle;\n",
       "    }\n",
       "\n",
       "    .dataframe tbody tr th {\n",
       "        vertical-align: top;\n",
       "    }\n",
       "\n",
       "    .dataframe thead th {\n",
       "        text-align: right;\n",
       "    }\n",
       "</style>\n",
       "<table border=\"1\" class=\"dataframe\">\n",
       "  <thead>\n",
       "    <tr style=\"text-align: right;\">\n",
       "      <th></th>\n",
       "      <th>Title</th>\n",
       "      <th>Article</th>\n",
       "    </tr>\n",
       "  </thead>\n",
       "  <tbody>\n",
       "    <tr>\n",
       "      <th>0</th>\n",
       "      <td>Passenger vehicles wholesales rise 26.73% to record 38.9 lakh units in 2022-23: SIAM</td>\n",
       "      <td>Domestic passenger vehicle wholesales grew 26.73% to a record high of over 38.9 lakh units in 2022-23, riding on a demand surge for utility vehicles, the Society of Indian Automobile Manufacturers said on Thursday.\\nDispatches of passenger vehicles (PVs) from manufacturers to dealers stood at 38,90,114 units in the fiscal ended March 31, 2023, compared with 30,69,523 units in 2021-22, as per the latest data released by SIAM.\\nThe previous highest wholesales of PVs were recorded in 2018-19 at 33,77,436 units.\\nThe growth of the PV sales in FY23 was led by utility vehicles – 20,03,718 units in FY23 compared with 14,89,219 units in FY22, a growth of 34.55%. The segment now commands a 51.5% share of PV sales.\\nSIAM President Vinod Aggarwal said 2022-23 had been a year of consolidation post-COVID-19, although supply chain disruptions started again due to the Ukraine conflict.\\n“However, with efficient management of supply chains and better availability of commodities, especially for the electronics items, prices have moderated over the year, though it remains a concern,” he told reporters here.\\nMr. Aggarwal said while the PV segment posted the highest-ever domestic sales, surpassing the previous peak in 2018-19, commercial vehicles posted the second-highest domestic sales and are close to the previous peak of 2018-19.\\nCommercial vehicle sales were at 9,62,468 units in FY23 compared with 7,16,566 units in FY22.\\nSIAM Director General Rajesh Menon said commercial vehicles, two-wheelers and three-wheelers segments “are yet to reach the pre-pandemic levels.”\\nThe total two-wheeler sales in FY23 stood at 1,58,62,087 units against 1,35,70,008 units in FY22, a growth of 17%. The segment had witnessed a decline in the previous three consecutive years.\\nVehicle wholesales across categories stood at 2,12,04,162 units in 2022-23 compared with 1,76,17,606 units in 2021-22, a growth of 20.36%.\\nSIAM said challenges remain in entry-level passenger cars and two-wheelers. The entry-level mini cars segment declined by 57% in FY23 compared with the peak levels of FY17.\\nOn the other hand, entry-level scooter sales also declined by 27% in FY23 against the peak level in 2018-19 and that of entry-level motorcycles dropped by 38% in 2022-23 compared with the highest level witnessed in 2018-19, SIAM said.\\nAsked if meeting regulatory norms, which has resulted in increased prices, affected affordability, Mr. Aggarwal said, “If you look at the industry performance, it has recovered quite well last year despite all the regulatory concerns.”\\n“The regulatory norms are also required. At the same time, we have to see how do we create more advantages for the consumers through various other means... sometimes when the costs go up, consumers are not immediately able to take the call,” he added.\\nHowever, he said, mobility is required and income levels are also improving.\\n“I’m sure there will be a good balance, which will get created over a period of time and this entry-level will start coming up,” Mr. Aggarwal added.\\nOn the outlook for the new fiscal, he said, “If you look at the overall demand, it is growing and it is moving in the right direction. So, therefore, we should remain very positive about the further growth in the demand in the current year...We are very positive.”\\nAs far as the semiconductor issues are concerned, it seems to have improved, and the better management of supply chains and overall properties are also going to improve, he added.\\nAs per the latest SIAM data, domestic wholesales of passenger vehicles grew 4.47% year-on-year in March to 2,92,030 units.\\nIn March last year, wholesales of passenger vehicles were at 2,79,525 units.\\nTwo-wheeler sales clocked 12,90,553 units in the domestic market last month compared with 11,98,825 units in the year-ago period, SIAM said.\\nThe total vehicle wholesales last month stood at 16,37,048 units against 15,10,534 units a year ago, it added.\\n\\nCOMMents\\n\\n SHARE\\n\\n\\nbusiness (general)\\n\\n</td>\n",
       "    </tr>\n",
       "    <tr>\n",
       "      <th>1</th>\n",
       "      <td>Lamborghini unveils Urus S at starting price of ₹4.18 crore</td>\n",
       "      <td>Automobili Lamborghini has unveiled Urus S, the successor to the original Urus that established a new Super SUV in the luxury segment at prices starting from ₹4.18 crore (ex-showroom India).\\n“The Urus S delivers increased power combined with luxurious versatility and presence to confirm its status as the ultimate lifestyle Lamborghini Super SUV, alongside the new Urus for those seeking maximum sports performance,” the company said. \\n“The Urus has proven its appeal for those seeking the decisive combination of the sportiest SUV and a Lamborghini to drive every day: the Urus S sits perfectly alongside the new Urus Performante, for those choosing the purest sublimation of performance, luxury and versatility,” Stephan Winkelmann, Chairman and CEO of Automobili Lamborghini said in a statement.\\n“The Urus’s commercial success, with more than 20,000 vehicles produced is testament to its credentials as the first and enduring Super SUV: the Urus S elevates that reputation,” he added.\\nSharad Agarwal, Head – Lamborghini India, said the demand for super cars was growing in India and so far the company had sold over 200 Urus Super SUVs in India.  Currently there is a waiting period of 18 months for the Urus S.\\nAcceleration is improved, with the Urus S propelling from 0-100 km/h in 3.5 seconds and 0-200 km/h in 12.5 seconds. With a top speed of 305 km/h, the Urus S brakes from 100 km/h back to zero in just 33.7 m. \\nIts twin-turbo engine delivers 850 Nm of maximum torque already at 2,300 rpm up to a maximum 6,000 rpm.\\n\\nCOMMents\\n\\n SHARE\\n\\n</td>\n",
       "    </tr>\n",
       "  </tbody>\n",
       "</table>\n",
       "</div>"
      ],
      "text/plain": [
       "                                                                                  Title   \n",
       "0  Passenger vehicles wholesales rise 26.73% to record 38.9 lakh units in 2022-23: SIAM  \\\n",
       "1                           Lamborghini unveils Urus S at starting price of ₹4.18 crore   \n",
       "\n",
       "                                                                                                                                                                                                                                                                                                                                                                                                                                                                                                                                                                                                                                                                                                                                                                                                                                                                                                                                                                                                                                                                                                                                                                                                                                                                                                                                                                                                                                                                                                                                                                                                                                                                                                                                                                                                                                                                                                                                                                                                                                                                                                                                                                                                                                                                                                                                                                                                                                                                                                                                                                                                                                                                                                                                                                                                                                                                                                                                                                                                                                                                                                                                                                                                                                                                                                                                                                                                                                                                                                                                                                                                                                                                                                                                                                                                                                                                                                                                                                                                                                                                                                                                                   Article  \n",
       "0  Domestic passenger vehicle wholesales grew 26.73% to a record high of over 38.9 lakh units in 2022-23, riding on a demand surge for utility vehicles, the Society of Indian Automobile Manufacturers said on Thursday.\\nDispatches of passenger vehicles (PVs) from manufacturers to dealers stood at 38,90,114 units in the fiscal ended March 31, 2023, compared with 30,69,523 units in 2021-22, as per the latest data released by SIAM.\\nThe previous highest wholesales of PVs were recorded in 2018-19 at 33,77,436 units.\\nThe growth of the PV sales in FY23 was led by utility vehicles – 20,03,718 units in FY23 compared with 14,89,219 units in FY22, a growth of 34.55%. The segment now commands a 51.5% share of PV sales.\\nSIAM President Vinod Aggarwal said 2022-23 had been a year of consolidation post-COVID-19, although supply chain disruptions started again due to the Ukraine conflict.\\n“However, with efficient management of supply chains and better availability of commodities, especially for the electronics items, prices have moderated over the year, though it remains a concern,” he told reporters here.\\nMr. Aggarwal said while the PV segment posted the highest-ever domestic sales, surpassing the previous peak in 2018-19, commercial vehicles posted the second-highest domestic sales and are close to the previous peak of 2018-19.\\nCommercial vehicle sales were at 9,62,468 units in FY23 compared with 7,16,566 units in FY22.\\nSIAM Director General Rajesh Menon said commercial vehicles, two-wheelers and three-wheelers segments “are yet to reach the pre-pandemic levels.”\\nThe total two-wheeler sales in FY23 stood at 1,58,62,087 units against 1,35,70,008 units in FY22, a growth of 17%. The segment had witnessed a decline in the previous three consecutive years.\\nVehicle wholesales across categories stood at 2,12,04,162 units in 2022-23 compared with 1,76,17,606 units in 2021-22, a growth of 20.36%.\\nSIAM said challenges remain in entry-level passenger cars and two-wheelers. The entry-level mini cars segment declined by 57% in FY23 compared with the peak levels of FY17.\\nOn the other hand, entry-level scooter sales also declined by 27% in FY23 against the peak level in 2018-19 and that of entry-level motorcycles dropped by 38% in 2022-23 compared with the highest level witnessed in 2018-19, SIAM said.\\nAsked if meeting regulatory norms, which has resulted in increased prices, affected affordability, Mr. Aggarwal said, “If you look at the industry performance, it has recovered quite well last year despite all the regulatory concerns.”\\n“The regulatory norms are also required. At the same time, we have to see how do we create more advantages for the consumers through various other means... sometimes when the costs go up, consumers are not immediately able to take the call,” he added.\\nHowever, he said, mobility is required and income levels are also improving.\\n“I’m sure there will be a good balance, which will get created over a period of time and this entry-level will start coming up,” Mr. Aggarwal added.\\nOn the outlook for the new fiscal, he said, “If you look at the overall demand, it is growing and it is moving in the right direction. So, therefore, we should remain very positive about the further growth in the demand in the current year...We are very positive.”\\nAs far as the semiconductor issues are concerned, it seems to have improved, and the better management of supply chains and overall properties are also going to improve, he added.\\nAs per the latest SIAM data, domestic wholesales of passenger vehicles grew 4.47% year-on-year in March to 2,92,030 units.\\nIn March last year, wholesales of passenger vehicles were at 2,79,525 units.\\nTwo-wheeler sales clocked 12,90,553 units in the domestic market last month compared with 11,98,825 units in the year-ago period, SIAM said.\\nThe total vehicle wholesales last month stood at 16,37,048 units against 15,10,534 units a year ago, it added.\\n\\nCOMMents\\n\\n SHARE\\n\\n\\nbusiness (general)\\n\\n  \n",
       "1                                                                                                                                                                                                                                                                                                                                                                                                                                                                                                                                                                                                                                                                                                                                                                                                                                                                                                                                                                                                                                                                                                                                                                                                                                                                                                                                                                                                                                                                                                                                                                                                                                                                                                                                                                                                                                                                                                                                                                                                                                                                                                                                                                                                                                                                                                                                                                                                                                                                                                                                  Automobili Lamborghini has unveiled Urus S, the successor to the original Urus that established a new Super SUV in the luxury segment at prices starting from ₹4.18 crore (ex-showroom India).\\n“The Urus S delivers increased power combined with luxurious versatility and presence to confirm its status as the ultimate lifestyle Lamborghini Super SUV, alongside the new Urus for those seeking maximum sports performance,” the company said. \\n“The Urus has proven its appeal for those seeking the decisive combination of the sportiest SUV and a Lamborghini to drive every day: the Urus S sits perfectly alongside the new Urus Performante, for those choosing the purest sublimation of performance, luxury and versatility,” Stephan Winkelmann, Chairman and CEO of Automobili Lamborghini said in a statement.\\n“The Urus’s commercial success, with more than 20,000 vehicles produced is testament to its credentials as the first and enduring Super SUV: the Urus S elevates that reputation,” he added.\\nSharad Agarwal, Head – Lamborghini India, said the demand for super cars was growing in India and so far the company had sold over 200 Urus Super SUVs in India.  Currently there is a waiting period of 18 months for the Urus S.\\nAcceleration is improved, with the Urus S propelling from 0-100 km/h in 3.5 seconds and 0-200 km/h in 12.5 seconds. With a top speed of 305 km/h, the Urus S brakes from 100 km/h back to zero in just 33.7 m. \\nIts twin-turbo engine delivers 850 Nm of maximum torque already at 2,300 rpm up to a maximum 6,000 rpm.\\n\\nCOMMents\\n\\n SHARE\\n\\n  "
      ]
     },
     "execution_count": 13,
     "metadata": {},
     "output_type": "execute_result"
    }
   ],
   "source": [
    "import pandas as pd\n",
    "\n",
    "df = pd.read_csv('Hindu_articles.csv')\n",
    "df_1 = pd.read_csv('articles_2023-05-16_06-29-58.csv')\n",
    "df_2 = pd.read_csv('articles_2023-05-16_06-37-05.csv')\n",
    "df_3 = pd.read_csv('articles_2023-05-16_06-43-28.csv')\n",
    "\n",
    "df = pd.concat([df,df_1,df_2,df_3])\n",
    "\n",
    "print(f'Shape of the dataset {df.shape}')\n",
    "\n",
    "df = df.drop_duplicates(subset=['Title'])\n",
    "\n",
    "print(f'Shape of the dataset after dropping duplicates {df.shape}')\n",
    "\n",
    "pd.set_option('max_colwidth', None)\n",
    "\n",
    "df.head(2)"
   ]
  },
  {
   "cell_type": "code",
   "execution_count": 14,
   "id": "2d6dacd2-208d-44e9-978a-7046d25c875a",
   "metadata": {},
   "outputs": [],
   "source": [
    "df.to_csv('Hindu_articles.csv',index = False)"
   ]
  },
  {
   "cell_type": "code",
   "execution_count": 15,
   "id": "5d331ce2",
   "metadata": {},
   "outputs": [
    {
     "data": {
      "text/plain": [
       "(2492, 2)"
      ]
     },
     "execution_count": 15,
     "metadata": {},
     "output_type": "execute_result"
    }
   ],
   "source": [
    "df.shape"
   ]
  },
  {
   "cell_type": "code",
   "execution_count": null,
   "id": "ea41738a",
   "metadata": {},
   "outputs": [],
   "source": []
  }
 ],
 "metadata": {
  "kernelspec": {
   "display_name": "Python 3 (ipykernel)",
   "language": "python",
   "name": "python3"
  },
  "language_info": {
   "codemirror_mode": {
    "name": "ipython",
    "version": 3
   },
   "file_extension": ".py",
   "mimetype": "text/x-python",
   "name": "python",
   "nbconvert_exporter": "python",
   "pygments_lexer": "ipython3",
   "version": "3.9.16"
  }
 },
 "nbformat": 4,
 "nbformat_minor": 5
}
